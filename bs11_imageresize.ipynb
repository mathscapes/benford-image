{
 "cells": [
  {
   "cell_type": "code",
   "execution_count": 1,
   "metadata": {},
   "outputs": [],
   "source": [
    "# Resize using cv2\n",
    "import os \n",
    "import cv2\n",
    "import numpy as np\n",
    "import matplotlib.pyplot as plt"
   ]
  },
  {
   "cell_type": "code",
   "execution_count": 2,
   "metadata": {},
   "outputs": [
    {
     "data": {
      "text/plain": [
       "246"
      ]
     },
     "execution_count": 2,
     "metadata": {},
     "output_type": "execute_result"
    }
   ],
   "source": [
    "# Get list of all jpeg files from given directory\n",
    "directory = 'data'\n",
    "files = [f for f in os.listdir(directory) if f.endswith('.jpg') or f.endswith('.jpeg')]\n",
    "len(files)"
   ]
  },
  {
   "cell_type": "code",
   "execution_count": 5,
   "metadata": {},
   "outputs": [],
   "source": [
    "def build(src, file, dest):\n",
    "    image_dir = os.path.join(dest, file.split('.')[0])\n",
    "    if not os.path.exists(image_dir):\n",
    "        os.makedirs(image_dir)\n",
    "\n",
    "    fullpath = os.path.join(src, file)\n",
    "    # Read image\n",
    "    img = cv2.imread(fullpath, 0)\n",
    "    h,w = img.shape[:2]\n",
    "\n",
    "    #calculate aspect ratio\n",
    "    ratio = w / h\n",
    "    # print(ratio)\n",
    "    #set end width and delta change in pixels\n",
    "    end_w = 8\n",
    "\n",
    "    #Making longer dimension as width\n",
    "    if (ratio < 1):\n",
    "        img = cv2.rotate(img, cv2.ROTATE_90_COUNTERCLOCKWISE)\n",
    "        # print('Image rotated')\n",
    "        h,w = img.shape[:2]\n",
    "    \n",
    "    delta = 20\n",
    "    \n",
    "    if (ratio >= 1):\n",
    "        ratio = 1 / ratio\n",
    "\n",
    "    n_image = int((w - end_w)/delta)\n",
    "    # print(n_image)\n",
    "\n",
    "    for i in range(0, n_image):\n",
    "        # Calculating iterative width and height\n",
    "        calc_w = int(w - (i * delta)) \n",
    "        calc_h = int(calc_w * ratio)\n",
    "\n",
    "        #check for even sizes\n",
    "        if(calc_w % 2 != 0):\n",
    "            calc_w = calc_w - 1\n",
    "        \n",
    "        if(calc_h % 2 != 0):\n",
    "            calc_h = calc_h - 1\n",
    "\n",
    "        \n",
    "        # Resize image\n",
    "        img_r = cv2.resize(img, (calc_w,calc_h), interpolation=cv2.INTER_AREA)\n",
    "\n",
    "        #  Create image + path name\n",
    "        filename = str(i+1) + '_' + str(round((calc_w/w),3)) + '.jpg'\n",
    "        fullpath = os.path.join(image_dir, filename)\n",
    "        # print(path)\n",
    "\n",
    "        #Save image\n",
    "        # cv2.imwrite(path, img_r)\n",
    "        cv2.imwrite(fullpath, img_r, [int(cv2.IMWRITE_JPEG_QUALITY), 100])\n",
    "\n",
    "        # print('Image ' + str(i+1) + ' resized and saved to ' + path)"
   ]
  },
  {
   "cell_type": "code",
   "execution_count": 6,
   "metadata": {},
   "outputs": [
    {
     "ename": "KeyboardInterrupt",
     "evalue": "",
     "output_type": "error",
     "traceback": [
      "\u001b[0;31m---------------------------------------------------------------------------\u001b[0m",
      "\u001b[0;31mKeyboardInterrupt\u001b[0m                         Traceback (most recent call last)",
      "Cell \u001b[0;32mIn [6], line 1\u001b[0m\n\u001b[0;32m----> 1\u001b[0m [build(directory, file, \u001b[39m'\u001b[39m\u001b[39mimagesets\u001b[39m\u001b[39m'\u001b[39m) \u001b[39mfor\u001b[39;00m file \u001b[39min\u001b[39;00m files]\n",
      "Cell \u001b[0;32mIn [6], line 1\u001b[0m, in \u001b[0;36m<listcomp>\u001b[0;34m(.0)\u001b[0m\n\u001b[0;32m----> 1\u001b[0m [build(directory, file, \u001b[39m'\u001b[39;49m\u001b[39mimagesets\u001b[39;49m\u001b[39m'\u001b[39;49m) \u001b[39mfor\u001b[39;00m file \u001b[39min\u001b[39;00m files]\n",
      "Cell \u001b[0;32mIn [5], line 54\u001b[0m, in \u001b[0;36mbuild\u001b[0;34m(src, file, dest)\u001b[0m\n\u001b[1;32m     49\u001b[0m fullpath \u001b[39m=\u001b[39m os\u001b[39m.\u001b[39mpath\u001b[39m.\u001b[39mjoin(image_dir, filename)\n\u001b[1;32m     50\u001b[0m \u001b[39m# print(path)\u001b[39;00m\n\u001b[1;32m     51\u001b[0m \n\u001b[1;32m     52\u001b[0m \u001b[39m#Save image\u001b[39;00m\n\u001b[1;32m     53\u001b[0m \u001b[39m# cv2.imwrite(path, img_r)\u001b[39;00m\n\u001b[0;32m---> 54\u001b[0m cv2\u001b[39m.\u001b[39;49mimwrite(fullpath, img_r, [\u001b[39mint\u001b[39;49m(cv2\u001b[39m.\u001b[39;49mIMWRITE_JPEG_QUALITY), \u001b[39m100\u001b[39;49m])\n",
      "\u001b[0;31mKeyboardInterrupt\u001b[0m: "
     ]
    }
   ],
   "source": [
    "[build(directory, file, 'imagesets') for file in files]"
   ]
  },
  {
   "cell_type": "code",
   "execution_count": null,
   "metadata": {},
   "outputs": [],
   "source": []
  }
 ],
 "metadata": {
  "kernelspec": {
   "display_name": "Python 3.10.5 ('env': venv)",
   "language": "python",
   "name": "python3"
  },
  "language_info": {
   "codemirror_mode": {
    "name": "ipython",
    "version": 3
   },
   "file_extension": ".py",
   "mimetype": "text/x-python",
   "name": "python",
   "nbconvert_exporter": "python",
   "pygments_lexer": "ipython3",
   "version": "3.10.5"
  },
  "orig_nbformat": 4,
  "vscode": {
   "interpreter": {
    "hash": "46ffaab062dc0d48209bde526df15304fdb53cbd2bb7a03604e0da936e42fe22"
   }
  }
 },
 "nbformat": 4,
 "nbformat_minor": 2
}
