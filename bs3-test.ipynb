{
 "cells": [
  {
   "cell_type": "code",
   "execution_count": null,
   "metadata": {},
   "outputs": [],
   "source": [
    "import bs3\n",
    "import matplotlib.pyplot as plt\n",
    "import numpy as np"
   ]
  },
  {
   "cell_type": "code",
   "execution_count": null,
   "metadata": {},
   "outputs": [],
   "source": [
    "dir = 'data'\n",
    "csv = 'batch_test.csv'\n",
    "rsz = 0.25 \n",
    "min = 0\n",
    "max = 9\n",
    "fp  = 3"
   ]
  },
  {
   "cell_type": "code",
   "execution_count": null,
   "metadata": {},
   "outputs": [],
   "source": [
    "files = bs3.ls(dir)\n",
    "len(files)"
   ]
  },
  {
   "cell_type": "code",
   "execution_count": null,
   "metadata": {},
   "outputs": [],
   "source": [
    "# Set image id to test\n",
    "id = 4"
   ]
  },
  {
   "cell_type": "code",
   "execution_count": null,
   "metadata": {},
   "outputs": [],
   "source": [
    "img = bs3.read(dir, files[id])\n",
    "bs3.preview(img)\n",
    "img"
   ]
  },
  {
   "cell_type": "code",
   "execution_count": null,
   "metadata": {},
   "outputs": [],
   "source": [
    "img_rsz = bs3.resize(img, rsz)\n",
    "h, w = img_rsz.shape\n",
    "bs3.preview(img_rsz)\n",
    "img_rsz"
   ]
  },
  {
   "cell_type": "code",
   "execution_count": null,
   "metadata": {},
   "outputs": [],
   "source": [
    "img_np = bs3.as_np(img_rsz)\n",
    "img_reshaped = img_np.reshape((h,w))\n",
    "bs3.preview(img_reshaped)\n",
    "img_np"
   ]
  },
  {
   "cell_type": "code",
   "execution_count": null,
   "metadata": {},
   "outputs": [],
   "source": [
    "img_nrm = bs3.norm(img_np)\n",
    "img_reshaped = img_nrm.reshape((h,w))\n",
    "bs3.preview(img_reshaped)\n",
    "img_nrm"
   ]
  },
  {
   "cell_type": "code",
   "execution_count": null,
   "metadata": {},
   "outputs": [],
   "source": [
    "img_rmp = bs3.interp(img_nrm, min, max)\n",
    "img_reshaped = img_rmp.reshape((h,w))\n",
    "bs3.preview(img_reshaped, cmap='gray')\n",
    "img_rmp"
   ]
  },
  {
   "cell_type": "code",
   "execution_count": null,
   "metadata": {},
   "outputs": [],
   "source": [
    "img_fst = bs3.firsts(img_rmp)\n",
    "img_reshaped = img_fst.reshape((h,w))\n",
    "bs3.preview(img_reshaped)\n",
    "img_fst"
   ]
  },
  {
   "cell_type": "code",
   "execution_count": null,
   "metadata": {},
   "outputs": [],
   "source": [
    "img_cnt = bs3.counts(img_fst)\n",
    "img_cnt"
   ]
  },
  {
   "cell_type": "code",
   "execution_count": null,
   "metadata": {},
   "outputs": [],
   "source": [
    "img_prb = bs3.probs(img_cnt)\n",
    "img_prb"
   ]
  },
  {
   "cell_type": "code",
   "execution_count": null,
   "metadata": {},
   "outputs": [],
   "source": [
    "ben = bs3.ben()\n",
    "diff = { str(i) : round(img_prb[str(i)] - ben[str(i)], fp) for i in range(1, 10) }\n",
    "sum_diff = sum(diff.values())\n",
    "\n",
    "diff2 = { str(i) : pow(diff[str(i)], 2) for i in range(1, 10) }\n",
    "sum_diff2 = sum(diff2.values())\n",
    "\n",
    "# Show image and plot \n",
    "fig, ax = plt.subplots(1, 2, figsize=(10, 5))\n",
    "ax[0].plot(ben.keys(), ben.values(), 'bo-', label='Benford')\n",
    "ax[0].plot(img_prb.keys(), img_prb.values(), 'ro-', label='Image')\n",
    "ax[0].legend()\n",
    "\n",
    "ax[1].imshow(img, cmap='gray')\n",
    "\n",
    "ax[0].set_title('Image {} - SSD: {}'.format(id, round(sum_diff2, fp)))\n",
    "ax[1].set_title('Image {}'.format(id))"
   ]
  },
  {
   "cell_type": "code",
   "execution_count": null,
   "metadata": {},
   "outputs": [],
   "source": [
    "!python3 bs3.py -h"
   ]
  },
  {
   "cell_type": "code",
   "execution_count": null,
   "metadata": {},
   "outputs": [],
   "source": [
    "# Run the batch test\n",
    "! python3 bs3.py -d=data -c=csv/batch_test.csv -r=0.25 -m=0 -M=9999 -f=4"
   ]
  },
  {
   "cell_type": "code",
   "execution_count": null,
   "metadata": {},
   "outputs": [],
   "source": []
  }
 ],
 "metadata": {
  "kernelspec": {
   "display_name": "Python 3.10.5 ('env': venv)",
   "language": "python",
   "name": "python3"
  },
  "language_info": {
   "codemirror_mode": {
    "name": "ipython",
    "version": 3
   },
   "file_extension": ".py",
   "mimetype": "text/x-python",
   "name": "python",
   "nbconvert_exporter": "python",
   "pygments_lexer": "ipython3",
   "version": "3.10.5"
  },
  "orig_nbformat": 4,
  "vscode": {
   "interpreter": {
    "hash": "46ffaab062dc0d48209bde526df15304fdb53cbd2bb7a03604e0da936e42fe22"
   }
  }
 },
 "nbformat": 4,
 "nbformat_minor": 2
}
