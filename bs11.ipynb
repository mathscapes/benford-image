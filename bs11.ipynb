{
 "cells": [
  {
   "cell_type": "code",
   "execution_count": null,
   "metadata": {},
   "outputs": [],
   "source": [
    "import cv2 \n",
    "import numpy as np \n",
    "import matplotlib.pyplot as plt\n",
    "import os \n",
    "import pandas as pd\n",
    "from collections import Counter"
   ]
  },
  {
   "cell_type": "code",
   "execution_count": null,
   "metadata": {},
   "outputs": [],
   "source": [
    "lsjpeg  = lambda path   : [os.path.join(path, f) for f in os.listdir(path) if f.endswith('.jpeg') or f.endswith('.jpg')]\n",
    "norm    = lambda I      : cv2.normalize(I, None, 0, 1, cv2.NORM_MINMAX, cv2.CV_32F)\n",
    "read    = lambda f      : norm(cv2.imread(f, 0))\n",
    "dct     = lambda I      : cv2.dct(I)\n",
    "idct    = lambda I      : cv2.idct(I)\n",
    "first   = lambda x      : int(str(\"{:.2e}\".format(x))[0]) if x > 0 else 0\n",
    "firsts  = lambda A      : [first(a) for a in A]\n",
    "hist    = lambda I      : np.histogram(firsts(I.ravel()), bins=range(11))[0][1:]\n",
    "pdf     = lambda h      : h/np.sum(h)\n",
    "ben     = lambda        : np.log10(1 + 1/np.arange(1, 10))\n",
    "ssd     = lambda A, B   : np.sum([pow(x-y,2) for x, y in zip(A, B)])\n",
    "\n",
    "class plot:\n",
    "    image       = lambda I   : plt.imshow(I, cmap='gray')\n",
    "    \n",
    "    @classmethod\n",
    "    def multibar(cls, X, xticks=range(1,10), title=None):\n",
    "        width = 1/(len(X)+1)\n",
    "        for i, x in enumerate(X):\n",
    "            x_axis = np.arange(1, len(x[\"data\"])+1) + i*width\n",
    "            plt.bar(x_axis, x[\"data\"], width=width, label=x[\"name\"])\n",
    "        if title:\n",
    "            plt.title(title)\n",
    "        plt.xticks(xticks)\n",
    "        plt.legend()\n",
    "        plt.show()\n",
    "    \n",
    "    compare     = lambda f: plot.multibar([{\"data\": f, \"name\": \"This\"}, {\"data\": ben(), \"name\": \"Benford\"}])\n",
    "\n",
    "    @classmethod\n",
    "    def study1(cls, df, type='box', alpha=0.25, log=True):\n",
    "        # Accumulate all dct_probs in a single list\n",
    "        dct_probs = []\n",
    "        for i in range(0, 9):\n",
    "            dct_probs.append([])\n",
    "        for j, r in df.iterrows():\n",
    "            probs = list(r[\"analysis\"][\"dct\"][\"probs\"])\n",
    "            for i in range(0, 9):\n",
    "                dct_probs[i].append(probs[i])\n",
    "        \n",
    "        if type == 'box':\n",
    "            plt.boxplot(dct_probs)\n",
    "            plt.xticks(range(1, 10))\n",
    "        elif type == 'violin':\n",
    "            plt.violinplot(dct_probs, showmeans=True, showmedians=False)\n",
    "            plt.xticks(range(1, 10))\n",
    "        \n",
    "        if log: plt.yscale('log')\n",
    "        plt.bar(range(1, 10), ben(), color='grey', alpha=0.15)\n",
    "        plt.show()\n",
    "\n",
    "    @classmethod\n",
    "    def study2(cls, df, type='box', alpha=0.25, log=True):\n",
    "        dct_probs = []\n",
    "        for i in range(0, 9):\n",
    "            dct_probs.append([])\n",
    "        for j, r in df.iterrows():\n",
    "            probs = list(r[\"analysis\"][\"dct\"][\"probs\"])\n",
    "            for i in range(0, 9):\n",
    "                norm_prob = probs[i]/ben()[i]\n",
    "                dct_probs[i].append(norm_prob)\n",
    "\n",
    "        if type == 'box':\n",
    "            plt.boxplot(dct_probs)\n",
    "            plt.xticks(range(1, 10))\n",
    "        elif type == 'violin':\n",
    "            plt.violinplot(dct_probs, showmeans=True, showmedians=False)\n",
    "            plt.xticks(range(1, 10))\n",
    "\n",
    "        if log: plt.yscale('log')\n",
    "        plt.show()\n",
    "        \n",
    "    @classmethod\n",
    "    def study3(cls, df):\n",
    "        errors = []\n",
    "        for j, r in df.iterrows():\n",
    "            error = r[\"analysis\"][\"dct\"][\"error\"]\n",
    "            errors.append(error)\n",
    "        plt.hist(errors, bins=10)\n",
    "        plt.show()\n"
   ]
  },
  {
   "cell_type": "code",
   "execution_count": null,
   "metadata": {},
   "outputs": [],
   "source": [
    "I = read('data/IMG_0026.jpeg')\n",
    "plot.image(I)"
   ]
  },
  {
   "cell_type": "code",
   "execution_count": null,
   "metadata": {},
   "outputs": [],
   "source": [
    "probs = pdf(hist(I))\n",
    "error = ssd(probs, ben())\n",
    "\n",
    "plot.compare(probs)\n",
    "print(error)"
   ]
  },
  {
   "cell_type": "code",
   "execution_count": null,
   "metadata": {},
   "outputs": [],
   "source": [
    "M = dct(I)\n",
    "plot.image(M)"
   ]
  },
  {
   "cell_type": "code",
   "execution_count": null,
   "metadata": {},
   "outputs": [],
   "source": [
    "probs = pdf(hist(M))\n",
    "error = ssd(probs, ben())\n",
    "\n",
    "plot.compare(probs)\n",
    "print(error)"
   ]
  },
  {
   "cell_type": "code",
   "execution_count": null,
   "metadata": {},
   "outputs": [],
   "source": [
    "def image_stats(file):\n",
    "    I = read(file)\n",
    "    pre_probs = pdf(hist(I))\n",
    "    pre_error = ssd(pre_probs, ben())\n",
    "\n",
    "    M = dct(I)\n",
    "    dct_probs = pdf(hist(M))\n",
    "    dct_error = ssd(dct_probs, ben())\n",
    "    \n",
    "    stats = { \n",
    "        \"file\": file, \n",
    "        \"width\": I.shape[1],\n",
    "        \"height\": I.shape[0],\n",
    "        \"analysis\": {\n",
    "            \"pre\": {\n",
    "                \"probs\": pre_probs,\n",
    "                \"error\": pre_error\n",
    "            }, \n",
    "            \"dct\": {\n",
    "                \"probs\": dct_probs,\n",
    "                \"error\": dct_error\n",
    "            }\n",
    "        }\n",
    "    }\n",
    "\n",
    "    return stats\n",
    "    "
   ]
  },
  {
   "cell_type": "code",
   "execution_count": null,
   "metadata": {},
   "outputs": [],
   "source": [
    "image_stats('data/IMG_0026.jpeg')"
   ]
  },
  {
   "cell_type": "code",
   "execution_count": null,
   "metadata": {},
   "outputs": [],
   "source": [
    "def batch_stats(files):\n",
    "    batch = []\n",
    "\n",
    "    for i, file in enumerate(files):\n",
    "        print(f\"Analysing file {i+1}/{len(files)} ..\", end='\\r')\n",
    "        batch.append(image_stats(file))\n",
    "    df = pd.DataFrame(batch)\n",
    "    print(f\"Analysing {i+1}/{len(files)} .. Done!\")\n",
    "    return df"
   ]
  },
  {
   "cell_type": "code",
   "execution_count": null,
   "metadata": {},
   "outputs": [],
   "source": [
    "files = lsjpeg('data')\n",
    "stats = batch_stats(files[:2])"
   ]
  },
  {
   "cell_type": "code",
   "execution_count": null,
   "metadata": {},
   "outputs": [],
   "source": [
    "# Save stats to file\n",
    "stats.to_csv('stats.csv', index=False)"
   ]
  },
  {
   "cell_type": "code",
   "execution_count": null,
   "metadata": {},
   "outputs": [],
   "source": [
    "# Load stats from file\n",
    "stats = pd.read_csv('stats.csv')"
   ]
  },
  {
   "cell_type": "code",
   "execution_count": null,
   "metadata": {},
   "outputs": [],
   "source": [
    "plot.study1(stats, type='box', log=False)"
   ]
  },
  {
   "cell_type": "code",
   "execution_count": null,
   "metadata": {},
   "outputs": [],
   "source": [
    "plot.study1(stats, type='violin', log=False)"
   ]
  },
  {
   "cell_type": "code",
   "execution_count": null,
   "metadata": {},
   "outputs": [],
   "source": [
    "plot.study2(stats, type='box', log=False)"
   ]
  },
  {
   "cell_type": "code",
   "execution_count": null,
   "metadata": {},
   "outputs": [],
   "source": [
    "plot.study2(stats, type='violin', log=False)"
   ]
  },
  {
   "cell_type": "code",
   "execution_count": null,
   "metadata": {},
   "outputs": [],
   "source": [
    "plot.study3(stats)"
   ]
  },
  {
   "cell_type": "code",
   "execution_count": null,
   "metadata": {},
   "outputs": [],
   "source": []
  }
 ],
 "metadata": {
  "kernelspec": {
   "display_name": "Python 3.10.5 ('env': venv)",
   "language": "python",
   "name": "python3"
  },
  "language_info": {
   "codemirror_mode": {
    "name": "ipython",
    "version": 3
   },
   "file_extension": ".py",
   "mimetype": "text/x-python",
   "name": "python",
   "nbconvert_exporter": "python",
   "pygments_lexer": "ipython3",
   "version": "3.10.5"
  },
  "orig_nbformat": 4,
  "vscode": {
   "interpreter": {
    "hash": "46ffaab062dc0d48209bde526df15304fdb53cbd2bb7a03604e0da936e42fe22"
   }
  }
 },
 "nbformat": 4,
 "nbformat_minor": 2
}
